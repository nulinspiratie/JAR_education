{
 "cells": [
  {
   "cell_type": "code",
   "execution_count": 7,
   "metadata": {
    "collapsed": false
   },
   "outputs": [
    {
     "name": "stdout",
     "output_type": "stream",
     "text": [
      "Collecting dronekit-sitl\n",
      "  Using cached dronekit_sitl-3.2.0.tar.gz\n",
      "Requirement already satisfied (use --upgrade to upgrade): psutil>=3.0 in c:\\winpython\\python-2.7.10.amd64\\lib\\site-packages (from dronekit-sitl)\n",
      "Requirement already satisfied (use --upgrade to upgrade): dronekit>=2.0.0b6 in c:\\winpython\\python-2.7.10.amd64\\lib\\site-packages (from dronekit-sitl)\n",
      "Requirement already satisfied (use --upgrade to upgrade): six>=1.10 in c:\\winpython\\python-2.7.10.amd64\\lib\\site-packages (from dronekit-sitl)\n",
      "Requirement already satisfied (use --upgrade to upgrade): pymavlink==2.0.6 in c:\\winpython\\python-2.7.10.amd64\\lib\\site-packages (from dronekit>=2.0.0b6->dronekit-sitl)\n",
      "Requirement already satisfied (use --upgrade to upgrade): future==0.15.2 in c:\\winpython\\python-2.7.10.amd64\\lib\\site-packages (from dronekit>=2.0.0b6->dronekit-sitl)\n",
      "Requirement already satisfied (use --upgrade to upgrade): monotonic==1.2 in c:\\winpython\\python-2.7.10.amd64\\lib\\site-packages (from dronekit>=2.0.0b6->dronekit-sitl)\n",
      "Building wheels for collected packages: dronekit-sitl\n",
      "  Running setup.py bdist_wheel for dronekit-sitl\n",
      "  Stored in directory: C:\\Users\\Serwan\\AppData\\Local\\pip\\Cache\\wheels\\06\\e6\\f4\\4ed88637222525dc9d15941dfcd36e3d2de11887a0ca54c044\n",
      "Successfully built dronekit-sitl\n",
      "Installing collected packages: dronekit-sitl\n",
      "Successfully installed dronekit-sitl-3.2.0\n"
     ]
    },
    {
     "name": "stderr",
     "output_type": "stream",
     "text": [
      "You are using pip version 7.1.2, however version 9.0.1 is available.\n",
      "You should consider upgrading via the 'python -m pip install --upgrade pip' command.\n"
     ]
    }
   ],
   "source": [
    "!pip install dronekit_sitl"
   ]
  },
  {
   "cell_type": "code",
   "execution_count": 4,
   "metadata": {
    "collapsed": false
   },
   "outputs": [],
   "source": [
    "import dronekit"
   ]
  },
  {
   "cell_type": "code",
   "execution_count": 8,
   "metadata": {
    "collapsed": false
   },
   "outputs": [
    {
     "name": "stdout",
     "output_type": "stream",
     "text": [
      "Start simulator (SITL)\n",
      "Starting copter simulator (SITL)\n",
      "Downloading SITL from http://dronekit-assets.s3.amazonaws.com/sitl/copter/sitl-win-copter-3.3.tar.gz\n",
      "Download Complete.\n",
      "Payload Extracted.\n",
      "Ready to boot.\n",
      "Connecting to vehicle on: tcp:127.0.0.1:5760\n",
      "Get some vehicle attribute values:\n",
      " GPS: GPSInfo:fix=3,num_sat=10\n",
      " Battery: Battery:voltage=12.587,current=0.0,level=100\n",
      " Last Heartbeat: 0.703000000009\n",
      " Is Armable?: False\n",
      " System status: STANDBY\n",
      " Mode: STABILIZE\n",
      "Completed\n"
     ]
    },
    {
     "name": "stderr",
     "output_type": "stream",
     "text": [
      ">>> APM:Copter V3.3 (d6053245)\n",
      ">>> Frame: QUAD\n",
      ">>> Calibrating barometer\n",
      ">>> Initialising APM...\n",
      ">>> barometer calibration complete\n",
      ">>> GROUND START\n"
     ]
    }
   ],
   "source": [
    "print \"Start simulator (SITL)\"\n",
    "import dronekit_sitl\n",
    "sitl = dronekit_sitl.start_default()\n",
    "connection_string = sitl.connection_string()\n",
    "\n",
    "# Import DroneKit-Python\n",
    "from dronekit import connect, VehicleMode\n",
    "\n",
    "# Connect to the Vehicle.\n",
    "print(\"Connecting to vehicle on: %s\" % (connection_string,))\n",
    "vehicle = connect(connection_string, wait_ready=True)\n",
    "\n",
    "# Get some vehicle attributes (state)\n",
    "print \"Get some vehicle attribute values:\"\n",
    "print \" GPS: %s\" % vehicle.gps_0\n",
    "print \" Battery: %s\" % vehicle.battery\n",
    "print \" Last Heartbeat: %s\" % vehicle.last_heartbeat\n",
    "print \" Is Armable?: %s\" % vehicle.is_armable\n",
    "print \" System status: %s\" % vehicle.system_status.state\n",
    "print \" Mode: %s\" % vehicle.mode.name    # settable\n",
    "\n",
    "# Close vehicle object before exiting script\n",
    "vehicle.close()\n",
    "\n",
    "# Shut down simulator\n",
    "sitl.stop()\n",
    "print(\"Completed\")"
   ]
  },
  {
   "cell_type": "code",
   "execution_count": null,
   "metadata": {
    "collapsed": true
   },
   "outputs": [],
   "source": []
  }
 ],
 "metadata": {
  "kernelspec": {
   "display_name": "Python 2",
   "language": "python",
   "name": "python2"
  },
  "language_info": {
   "codemirror_mode": {
    "name": "ipython",
    "version": 2
   },
   "file_extension": ".py",
   "mimetype": "text/x-python",
   "name": "python",
   "nbconvert_exporter": "python",
   "pygments_lexer": "ipython2",
   "version": "2.7.10"
  }
 },
 "nbformat": 4,
 "nbformat_minor": 2
}
